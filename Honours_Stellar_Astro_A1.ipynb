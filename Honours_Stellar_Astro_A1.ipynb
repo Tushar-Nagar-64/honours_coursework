{
  "nbformat": 4,
  "nbformat_minor": 0,
  "metadata": {
    "colab": {
      "name": "Honours_Stellar_Astro_A1.ipynb",
      "provenance": [],
      "collapsed_sections": [],
      "authorship_tag": "ABX9TyOQ/hasAp//oenhku+36gGI",
      "include_colab_link": true
    },
    "kernelspec": {
      "name": "python3",
      "display_name": "Python 3"
    },
    "language_info": {
      "name": "python"
    }
  },
  "cells": [
    {
      "cell_type": "markdown",
      "metadata": {
        "id": "view-in-github",
        "colab_type": "text"
      },
      "source": [
        "<a href=\"https://colab.research.google.com/github/Tushar-Nagar-64/honours_coursework/blob/main/Honours_Stellar_Astro_A1.ipynb\" target=\"_parent\"><img src=\"https://colab.research.google.com/assets/colab-badge.svg\" alt=\"Open In Colab\"/></a>"
      ]
    },
    {
      "cell_type": "markdown",
      "metadata": {
        "id": "ml6ZhdpgqbR0"
      },
      "source": [
        "#LE SOLVER"
      ]
    },
    {
      "cell_type": "code",
      "metadata": {
        "id": "6VJMa-7TmMh-"
      },
      "source": [
        "from IPython.display import display, Math, Latex\n",
        "import numpy as np\n",
        "import scipy.interpolate as scipy\n",
        "np.seterr(divide='ignore', invalid='ignore')\n",
        "\n",
        "%matplotlib inline\n",
        "import matplotlib\n",
        "import matplotlib.pyplot as plt"
      ],
      "execution_count": null,
      "outputs": []
    },
    {
      "cell_type": "code",
      "metadata": {
        "id": "4NIcL8OLItc1"
      },
      "source": [
        "dx = 0.001\n",
        "x0 = 0\n",
        "y0 = 1\n",
        "z0 = 0"
      ],
      "execution_count": null,
      "outputs": []
    },
    {
      "cell_type": "code",
      "metadata": {
        "id": "m5iznqlTIwgw"
      },
      "source": [
        "def y(x,n):\n",
        "  return 1 - ((1/6)*x**2) +((n/120)*x**4) \n",
        "\n",
        "def z(x,n):\n",
        "  return (-x/3)+(n*x**3/30)\n",
        "\n",
        "def dz(x,y,z,n):\n",
        "  return (-1/x**2)*((2*x*z)+(x**2)*y**n)"
      ],
      "execution_count": null,
      "outputs": []
    },
    {
      "cell_type": "code",
      "metadata": {
        "id": "CVlKwJl4JBE0"
      },
      "source": [
        "x = x0\n",
        "y = y0\n",
        "z = z0\n",
        "n=3\n",
        "\n",
        "xvals = []\n",
        "yvals = []\n",
        "zvals = []\n",
        "\n",
        "z = z-(dx/3)\n",
        "zvals.append(z)\n",
        "y = y+dx*z\n",
        "yvals.append(y)\n",
        "x=x+dx\n",
        "xvals.append(x)\n",
        "\n",
        "while y>=0:\n",
        "  z = z+(dx*dz(x,y,z,n))\n",
        "  zvals.append(z)\n",
        "  y = y+(dx*z)\n",
        "  yvals.append(y)\n",
        "  x=x+dx\n",
        "  xvals.append(x)"
      ],
      "execution_count": null,
      "outputs": []
    },
    {
      "cell_type": "code",
      "metadata": {
        "id": "UVeXG5SBLCJV"
      },
      "source": [
        "print(xvals)\n",
        "print(yvals)\n",
        "print(zvals)"
      ],
      "execution_count": null,
      "outputs": []
    },
    {
      "cell_type": "code",
      "metadata": {
        "id": "y-85s75zCmD-"
      },
      "source": [
        "len(xvals)"
      ],
      "execution_count": null,
      "outputs": []
    },
    {
      "cell_type": "code",
      "metadata": {
        "id": "lWUCeiF1LLq2"
      },
      "source": [
        "plt.plot(xvals,yvals)\n",
        "plt.show()"
      ],
      "execution_count": null,
      "outputs": []
    },
    {
      "cell_type": "code",
      "metadata": {
        "id": "05HmZ94LMXLX"
      },
      "source": [
        "print(xvals[-1],zvals[-1],yvals[-1])"
      ],
      "execution_count": null,
      "outputs": []
    },
    {
      "cell_type": "markdown",
      "metadata": {
        "id": "mV2g53BBqU2-"
      },
      "source": [
        "#Q2A"
      ]
    },
    {
      "cell_type": "code",
      "metadata": {
        "id": "i9vPaFKu_CLV"
      },
      "source": [
        "m = np.linspace(0.01,1,num=100)\n",
        "#temp = 2e7\n",
        "#t9 = temp/10e9\n",
        "#g11 = 1+3.82*t9+(1.51*t9**2)+(0.144*t9**3)-(0.0114*t9**4)\n",
        "\n",
        "# set alpha, changes for each star type\n",
        "#alpha = 7.2e9\n",
        "#K = 9.43e13\n",
        "gamma = 3\n",
        "\n",
        "#def epp(rhoc):\n",
        "  #return 2.57e4*2*g11*rhoc*((0.715)**2)*(t9**(-2/3))*np.exp(-3.381/(t9**(1/3)))"
      ],
      "execution_count": null,
      "outputs": []
    },
    {
      "cell_type": "code",
      "metadata": {
        "id": "M9jLqrNZ2VDJ"
      },
      "source": [
        "gamma = 1.67\n",
        "n=1.5\n",
        "\n",
        "rhoc = 46\n",
        "drho = 0.5\n",
        "final = 0\n",
        "\n",
        "while final<3.84e33:\n",
        "\n",
        "  rhoc = rhoc+drho\n",
        "\n",
        "  alpha = (2e33/((4*np.pi)*rhoc*(3.65**2)*0.2))**(1/3)\n",
        "  K = ((alpha**2)*4*np.pi*6.67e-8)/((n+1)*rhoc**((1/n)-1))\n",
        "\n",
        "  def mexp(x,z):\n",
        "    return 4*np.pi*alpha**3*rhoc*(-(x**2)*z)\n",
        "\n",
        "  mass = []\n",
        "  mass2= []\n",
        "\n",
        "  for i in range(len(xvals)):\n",
        "    mass.append(mexp(xvals[i],zvals[i]))\n",
        "\n",
        "  for i in range(len(mass)):\n",
        "    mass2.append(mass[i]/np.max(mass))\n",
        "\n",
        "  #massenc = []\n",
        "\n",
        "  #for i in range(len(mass)):\n",
        "    #massenclosed=mass[i]\n",
        "    #for j in range(len(mass)):\n",
        "      #if j<i:\n",
        "        #massenclosed = mass[i]-mass[j]\n",
        "\n",
        "    #massenc.append(massenclosed)\n",
        "\n",
        "  inter = scipy.interp1d(mass2,xvals)\n",
        "\n",
        "  x2 = []\n",
        "\n",
        "  for i in range(len(m)):\n",
        "    x2.append(inter(m[i]))\n",
        "\n",
        "  inter2 = scipy.interp1d(xvals,yvals)\n",
        "\n",
        "  y2 = []\n",
        "\n",
        "  for i in range(len(x2)):\n",
        "    if inter2((x2[i]))<0:\n",
        "      y2.append(0)\n",
        "    else:\n",
        "      y2.append(inter2(x2[i]))\n",
        "\n",
        "\n",
        "  rho = []\n",
        "\n",
        "  for i in range(len(y2)):\n",
        "    rho.append(rhoc*y2[i]**n)\n",
        "\n",
        "  P = []\n",
        "  for i in range(len(rho)):\n",
        "    P.append(K*rho[i]**gamma)\n",
        "\n",
        "  #now solving for T\n",
        "\n",
        "  T = []\n",
        "  for i in range(len(P)):\n",
        "    coeff = [2.52e-15,0,0,rho[i]*1.38e-16*6.02e23/0.61,-P[i]]\n",
        "    sols = np.roots(coeff)\n",
        "    for i in range(4):\n",
        "      if sols[i]>0 and np.iscomplex(sols[i])==False:\n",
        "        T.append(sols[i])\n",
        "    #print(T)\n",
        "\n",
        "  t9 = []\n",
        "  for i in range(len(T)):\n",
        "    t9.append(T[i]/1e9)\n",
        "\n",
        "  g11 = []\n",
        "  for i in range(len(t9)):\n",
        "    g11.append(1+3.82*t9[i]+(1.51*t9[i]**2)+(0.144*t9[i]**3)-(0.0114*t9[i]**4))\n",
        "  \n",
        "  #we used rho[i] for egen here, not rhoc\n",
        "  egen = []\n",
        "  for i in range(len(g11)):\n",
        "    egen.append(2.57e4*2*g11[i]*rho[i]*((0.715)**2)*(t9[i]**(-2/3))*np.exp(-3.381/(t9[i]**(1/3)))*2e31)\n",
        "\n",
        "  egen_specific = []\n",
        "  for i in range(len(g11)):\n",
        "    egen_specific.append(2.57e4*2*g11[i]*rho[i]*((0.715)**2)*(t9[i]**(-2/3))*np.exp(-3.381/(t9[i]**(1/3))))\n",
        "\n",
        "  final = sum(egen)\n",
        "\n",
        "print(rhoc)\n",
        "print(alpha*3.65)\n",
        "print(T[0:10])"
      ],
      "execution_count": null,
      "outputs": []
    },
    {
      "cell_type": "code",
      "metadata": {
        "id": "xoiwd3vIJ9MQ"
      },
      "source": [
        "alpha*3.65/1e10"
      ],
      "execution_count": null,
      "outputs": []
    },
    {
      "cell_type": "code",
      "metadata": {
        "id": "gzCwW1vILmhi"
      },
      "source": [
        "plt.plot(m,egen_specific)\n",
        "plt.yscale('log')\n",
        "plt.xlabel('Mass coordinate')\n",
        "plt.ylabel('Specific energy generation rate, ergs/s/g')\n",
        "plt.show()"
      ],
      "execution_count": null,
      "outputs": []
    },
    {
      "cell_type": "code",
      "metadata": {
        "id": "_yuEW13NN8AY"
      },
      "source": [
        "lum = []\n",
        "\n",
        "for i in range(len(m)):\n",
        "  lum.append(sum(egen[0:i]))"
      ],
      "execution_count": null,
      "outputs": []
    },
    {
      "cell_type": "code",
      "metadata": {
        "id": "nXVd0YdRLyxo"
      },
      "source": [
        "plt.plot(m,lum)\n",
        "plt.yscale('log')\n",
        "plt.yticks([1e33,2e33,3e33,4e33],labels=[1e33,2e33,3e33,4e33])\n",
        "plt.xlabel('Mass coordinate')\n",
        "plt.ylabel('Luminosity, ergs/s')\n",
        "plt.show()"
      ],
      "execution_count": null,
      "outputs": []
    },
    {
      "cell_type": "markdown",
      "metadata": {
        "id": "V1zUZcsoqfrI"
      },
      "source": [
        "#Q2B"
      ]
    },
    {
      "cell_type": "code",
      "metadata": {
        "id": "5-y1Agl5gb7W"
      },
      "source": [
        "gamma = 4/3\n",
        "n=3\n",
        "\n",
        "rhoc = 0.03\n",
        "drho = 0.0002\n",
        "final = 0\n",
        "\n",
        "while final<4e7:\n",
        "\n",
        "  rhoc = rhoc+drho\n",
        "\n",
        "  print(rhoc)\n",
        "\n",
        "  alpha = (2e33*1e5/((4*np.pi)*rhoc*(3.65**2)*0.2))**(1/3)\n",
        "  K = ((alpha**2)*4*np.pi*6.67e-8)/((n+1)*rhoc**((1/n)-1))\n",
        "\n",
        "  def mexp(x,z):\n",
        "    return 4*np.pi*alpha**3*rhoc*(-(x**2)*z)\n",
        "\n",
        "  mass = []\n",
        "  mass2= []\n",
        "\n",
        "  for i in range(len(xvals)):\n",
        "    mass.append(mexp(xvals[i],zvals[i]))\n",
        "\n",
        "  for i in range(len(mass)):\n",
        "    mass2.append(mass[i]/np.max(mass))\n",
        "\n",
        "  #massenc = []\n",
        "\n",
        "  #for i in range(len(mass)):\n",
        "    #massenclosed=mass[i]\n",
        "    #for j in range(len(mass)):\n",
        "      #if j<i:\n",
        "        #massenclosed = mass[i]-mass[j]\n",
        "\n",
        "    #massenc.append(massenclosed)\n",
        "\n",
        "  inter = scipy.interp1d(mass2,xvals)\n",
        "\n",
        "  x2 = []\n",
        "\n",
        "  for i in range(len(m)):\n",
        "    x2.append(inter(m[i]))\n",
        "\n",
        "  inter2 = scipy.interp1d(xvals,yvals)\n",
        "\n",
        "  y2 = []\n",
        "\n",
        "  for i in range(len(x2)):\n",
        "    if inter2((x2[i]))<0:\n",
        "      y2.append(0)\n",
        "    else:\n",
        "      y2.append(inter2(x2[i]))\n",
        "\n",
        "\n",
        "  rho = []\n",
        "\n",
        "  for i in range(len(y2)):\n",
        "    rho.append(rhoc*y2[i]**n)\n",
        "\n",
        "  P = []\n",
        "  for i in range(len(rho)):\n",
        "    P.append(K*rho[i]**gamma)\n",
        "\n",
        "  #now solving for T\n",
        "\n",
        "  T = []\n",
        "  for i in range(len(P)):\n",
        "    coeff = [2.52e-15,0,0,rho[i]*1.38e-16*6.02e23/0.61,-P[i]]\n",
        "    sols = np.roots(coeff)\n",
        "    for i in range(4):\n",
        "      if sols[i]>0 and np.iscomplex(sols[i])==False:\n",
        "        T.append(sols[i])\n",
        "    #print(T)\n",
        "  final = T[0]\n",
        "  print(T[0])\n",
        "\n",
        "  t9 = []\n",
        "  for i in range(len(T)):\n",
        "    t9.append(T[i]/1e9)\n",
        "\n",
        "  g11 = []\n",
        "  for i in range(len(t9)):\n",
        "    g11.append(1-2*t9[i]+(3.41*t9[i]**2)-(2.43*t9[i]**3))\n",
        "\n",
        "  #we used rho[i] for egen here, not rhoc\n",
        "  egen = []\n",
        "  for i in range(len(g11)):\n",
        "    egen.append(8.25e25*g11[i]*(t9[i]**(-2/3))*(np.exp((-15.231*(t9[i]**(-1/3)))-(t9[i]/0.8)**2))*2e33*1e3)\n",
        "\n",
        "  egen_specific = []\n",
        "  for i in range(len(g11)):\n",
        "    egen.append(8.25e25*g11[i]*(t9[i]**(-2/3))*(np.exp((-15.231*(t9[i]**(-1/3)))-(t9[i]/0.8)**2)))\n",
        "\n",
        "  lum = sum(egen)\n",
        "\n",
        "print(rhoc)\n",
        "print((alpha*6.9)/6.96e10)\n",
        "print((lum/3.84e33)/1e7)\n",
        "print(T[0:5])"
      ],
      "execution_count": null,
      "outputs": []
    },
    {
      "cell_type": "code",
      "metadata": {
        "id": "rUx58MUPlOkN"
      },
      "source": [
        "mencl = []\n",
        "for i in range(len(m)):\n",
        "  mencl.append(m[i]*2e33*1e5)\n",
        "\n",
        "lum = []\n",
        "\n",
        "for i in range(len(m)):\n",
        "  lum.append(sum(egen[0:i]))"
      ],
      "execution_count": null,
      "outputs": []
    },
    {
      "cell_type": "code",
      "metadata": {
        "id": "oZR42n2zd89L"
      },
      "source": [
        "plt.plot(mencl,T)\n",
        "plt.title('T_central = 4e7')\n",
        "plt.yscale('linear')\n",
        "plt.xlabel('Mass enclosed')\n",
        "plt.ylabel('Temperature, K')\n",
        "plt.show()"
      ],
      "execution_count": null,
      "outputs": []
    },
    {
      "cell_type": "code",
      "metadata": {
        "id": "pLUYzVj_mTNt"
      },
      "source": [
        "plt.plot(mencl,rho)\n",
        "plt.title('T_central = 4e7')\n",
        "plt.yscale('linear')\n",
        "plt.xlabel('Mass enclosed')\n",
        "plt.ylabel('Density, g/cm^3')\n",
        "plt.show()"
      ],
      "execution_count": null,
      "outputs": []
    },
    {
      "cell_type": "code",
      "metadata": {
        "id": "0ENn_26emsAj"
      },
      "source": [
        ""
      ],
      "execution_count": null,
      "outputs": []
    }
  ]
}